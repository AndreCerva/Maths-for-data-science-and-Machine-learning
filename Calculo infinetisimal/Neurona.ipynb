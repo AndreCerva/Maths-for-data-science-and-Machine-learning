{
 "cells": [
  {
   "cell_type": "markdown",
   "metadata": {},
   "source": [
    "##### Nuerona\n",
    "Unidad basica de las redes neuronales\n",
    "Es similar a una regresión lineal, una función lineal multivariable en su forma más sencilla\n",
    "recibe parametros que se multiplican por pesos sipnaticos, esos resultados se suman y se pasa por una función de activación lo que nos da una y estimación\n"
   ]
  },
  {
   "cell_type": "markdown",
   "metadata": {},
   "source": [
    "#### Red neuronal\n",
    "Interconexión de multiples neuronas que están entrelazadas entre si, transmiten señales desde su inicio hasta su fin\n",
    "están compuestas por una funcion de activación (lineal, sigmoidal, hiperbolica, etc) y su sesgo\n",
    "\n",
    "nuestro cerebro biologico es una red neuronal por miles de millones de redes neuronales \n"
   ]
  },
  {
   "cell_type": "markdown",
   "metadata": {},
   "source": [
    "#### Función de activación\n"
   ]
  }
 ],
 "metadata": {
  "language_info": {
   "name": "python"
  },
  "orig_nbformat": 4
 },
 "nbformat": 4,
 "nbformat_minor": 2
}
