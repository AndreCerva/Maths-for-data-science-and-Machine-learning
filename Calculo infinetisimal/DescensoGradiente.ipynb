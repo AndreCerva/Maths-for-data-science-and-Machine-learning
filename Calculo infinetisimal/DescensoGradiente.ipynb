{
 "cells": [
  {
   "cell_type": "markdown",
   "metadata": {},
   "source": [
    "#### Gradiente\n",
    "\n",
    "Algoritmo que estima numericamente donde una función genera sus valores más bajos y altos, encuentra minimos y máximos locales, pero no con los metodos comunes de segunda derivada. El descenso del gradiente aproxima la solución con numeros"
   ]
  }
 ],
 "metadata": {
  "language_info": {
   "name": "python"
  },
  "orig_nbformat": 4
 },
 "nbformat": 4,
 "nbformat_minor": 2
}
